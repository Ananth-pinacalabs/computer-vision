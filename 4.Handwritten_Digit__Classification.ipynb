{
  "nbformat": 4,
  "nbformat_minor": 0,
  "metadata": {
    "colab": {
      "provenance": []
    },
    "kernelspec": {
      "name": "python3",
      "display_name": "Python 3"
    },
    "language_info": {
      "name": "python"
    }
  },
  "cells": [
    {
      "cell_type": "markdown",
      "source": [
        "# **Hand written digit classification**"
      ],
      "metadata": {
        "id": "kKBfHYRWEBsJ"
      }
    },
    {
      "cell_type": "markdown",
      "source": [
        "**MNIST** or **Modified National Institute of Standards and Technology** database is one of the first known large databases of image data. This contains about 60,000 images of handwritten digits.  \n",
        "\n",
        "\n",
        "In this notebook we attempt to train a ANN network to classify the images. We demontrate how to build a neural network using Tensorflow and train it on the MNIST dataset. We finally test the model performence on a test data set."
      ],
      "metadata": {
        "id": "zgbsdh95gyN2"
      }
    },
    {
      "cell_type": "code",
      "execution_count": null,
      "metadata": {
        "id": "pELLUNVzJWB6"
      },
      "outputs": [],
      "source": [
        "import numpy as np\n",
        "import matplotlib.pyplot as plt\n",
        "import tensorflow\n",
        "from tensorflow import keras\n",
        "from tensorflow.keras import Sequential\n",
        "from tensorflow.keras.layers import Dense,Flatten"
      ]
    },
    {
      "cell_type": "code",
      "source": [
        "(X_train,y_train),(X_test,y_test) = keras.datasets.mnist.load_data()"
      ],
      "metadata": {
        "id": "KRTH93VyMYF7",
        "outputId": "0929785f-204b-400d-ddf1-3fc37c602184",
        "colab": {
          "base_uri": "https://localhost:8080/"
        }
      },
      "execution_count": null,
      "outputs": [
        {
          "output_type": "stream",
          "name": "stdout",
          "text": [
            "Downloading data from https://storage.googleapis.com/tensorflow/tf-keras-datasets/mnist.npz\n",
            "11490434/11490434 [==============================] - 0s 0us/step\n"
          ]
        }
      ]
    },
    {
      "cell_type": "code",
      "source": [
        "X_test.shape, y_test.shape"
      ],
      "metadata": {
        "colab": {
          "base_uri": "https://localhost:8080/"
        },
        "id": "m0hHUKoNMpsZ",
        "outputId": "0d0538c9-672b-4984-bb69-a1cba779648d"
      },
      "execution_count": null,
      "outputs": [
        {
          "output_type": "execute_result",
          "data": {
            "text/plain": [
              "((10000, 28, 28), (10000,))"
            ]
          },
          "metadata": {},
          "execution_count": 4
        }
      ]
    },
    {
      "cell_type": "code",
      "source": [
        "y_train"
      ],
      "metadata": {
        "colab": {
          "base_uri": "https://localhost:8080/"
        },
        "id": "skzwnglnMzl6",
        "outputId": "b8d7aef5-6f80-46d4-d5dc-010ff5fa5c99"
      },
      "execution_count": null,
      "outputs": [
        {
          "output_type": "execute_result",
          "data": {
            "text/plain": [
              "array([5, 0, 4, ..., 5, 6, 8], dtype=uint8)"
            ]
          },
          "metadata": {},
          "execution_count": 5
        }
      ]
    },
    {
      "cell_type": "markdown",
      "source": [
        "The following is one example of the type of input we are handling."
      ],
      "metadata": {
        "id": "fNplXCmdGJZH"
      }
    },
    {
      "cell_type": "code",
      "source": [
        "import matplotlib.pyplot as plt\n",
        "plt.imshow(X_train[2], cmap = \"gray\")"
      ],
      "metadata": {
        "colab": {
          "base_uri": "https://localhost:8080/",
          "height": 447
        },
        "id": "jr2MuKsKRH5G",
        "outputId": "b42e726b-4372-4d52-b4e9-6d40447a0445"
      },
      "execution_count": null,
      "outputs": [
        {
          "output_type": "execute_result",
          "data": {
            "text/plain": [
              "<matplotlib.image.AxesImage at 0x7ba204ee7970>"
            ]
          },
          "metadata": {},
          "execution_count": 6
        },
        {
          "output_type": "display_data",
          "data": {
            "text/plain": [
              "<Figure size 640x480 with 1 Axes>"
            ],
            "image/png": "[encoded data removed]"
          },
          "metadata": {}
        }
      ]
    },
    {
      "cell_type": "markdown",
      "source": [
        "We normalize the data by dividing the inputs by 255 therefore all the numbers in the image array go from  range of (0-255)  to (0 - 1). normalising helps prevent exploding gradients and helps the model to converge faster.\n"
      ],
      "metadata": {
        "id": "VrjAWXRziK4V"
      }
    },
    {
      "cell_type": "code",
      "source": [
        "X_train = X_train/255\n",
        "X_test = X_test/255"
      ],
      "metadata": {
        "id": "dJmO2WLlRRT1"
      },
      "execution_count": null,
      "outputs": []
    },
    {
      "cell_type": "markdown",
      "source": [
        "the following is the model architecture. The model contains -  \n",
        "\n",
        "* An input layer is  of shape (28, 28),  the same as the dimension of images. The image is flattened from a 2D array to 1D array to form the model inputs.\n",
        "\n",
        "\n",
        "*  The hidden layers consist of two dense layer with 138 and 32 neurons respectively. Each of them use a ReLu activation.\n",
        "\n",
        "\n",
        "* The output contains a softmax funtion that outputs a 10 dimensional vector containing a probabillity distibution that signifies  the probability of each digit occuring.\n",
        "\n",
        "\n",
        "\n",
        "\n",
        "\n",
        "\n"
      ],
      "metadata": {
        "id": "-USZnumxjVTs"
      }
    },
    {
      "cell_type": "code",
      "source": [
        "model = Sequential()\n",
        "\n",
        "model.add(Flatten(input_shape=(28,28)))\n",
        "model.add(Dense(128,activation='relu'))\n",
        "model.add(Dense(32,activation='relu'))\n",
        "model.add(Dense(10,activation='softmax'))"
      ],
      "metadata": {
        "id": "jr78UU88Rzm6"
      },
      "execution_count": null,
      "outputs": []
    },
    {
      "cell_type": "code",
      "source": [
        "model.summary()"
      ],
      "metadata": {
        "colab": {
          "base_uri": "https://localhost:8080/"
        },
        "id": "ECogPfG5SmNI",
        "outputId": "e7de2bb0-d178-43de-e078-eecfec62f639"
      },
      "execution_count": null,
      "outputs": [
        {
          "output_type": "stream",
          "name": "stdout",
          "text": [
            "Model: \"sequential_5\"\n",
            "_________________________________________________________________\n",
            " Layer (type)                Output Shape              Param #   \n",
            "=================================================================\n",
            " flatten_4 (Flatten)         (None, 784)               0         \n",
            "                                                                 \n",
            " dense_11 (Dense)            (None, 128)               100480    \n",
            "                                                                 \n",
            " dense_12 (Dense)            (None, 32)                4128      \n",
            "                                                                 \n",
            " dense_13 (Dense)            (None, 10)                330       \n",
            "                                                                 \n",
            "=================================================================\n",
            "Total params: 104,938\n",
            "Trainable params: 104,938\n",
            "Non-trainable params: 0\n",
            "_________________________________________________________________\n"
          ]
        }
      ]
    },
    {
      "cell_type": "markdown",
      "source": [
        "The model uses loss funtion  - `sparse categorical crossentorpy` as this is a multiclass classification problem and we use the `Adam` optimiser .\n",
        "\n",
        "\n",
        "we monitor the model accuracy to track the model performence while training."
      ],
      "metadata": {
        "id": "_NGQUIA-G_NG"
      }
    },
    {
      "cell_type": "code",
      "source": [
        "model.compile(loss='sparse_categorical_crossentropy',optimizer='Adam',metrics=['accuracy'])"
      ],
      "metadata": {
        "id": "0yC51WgjSsLV"
      },
      "execution_count": null,
      "outputs": []
    },
    {
      "cell_type": "code",
      "source": [
        "history = model.fit(X_train,y_train,epochs=25,validation_split=0.2)"
      ],
      "metadata": {
        "colab": {
          "base_uri": "https://localhost:8080/"
        },
        "id": "L-fkwmIvWT8M",
        "outputId": "89839902-03a1-4d55-e253-fd3952bfb224"
      },
      "execution_count": null,
      "outputs": [
        {
          "output_type": "stream",
          "name": "stdout",
          "text": [
            "Epoch 1/25\n",
            "1500/1500 [==============================] - 6s 4ms/step - loss: 0.0106 - accuracy: 0.9965 - val_loss: 0.1642 - val_accuracy: 0.9734\n",
            "Epoch 2/25\n",
            "1500/1500 [==============================] - 9s 6ms/step - loss: 0.0085 - accuracy: 0.9973 - val_loss: 0.1559 - val_accuracy: 0.9753\n",
            "Epoch 3/25\n",
            "1500/1500 [==============================] - 6s 4ms/step - loss: 0.0091 - accuracy: 0.9971 - val_loss: 0.1495 - val_accuracy: 0.9756\n",
            "Epoch 4/25\n",
            "1500/1500 [==============================] - 8s 5ms/step - loss: 0.0081 - accuracy: 0.9973 - val_loss: 0.1592 - val_accuracy: 0.9762\n",
            "Epoch 5/25\n",
            "1500/1500 [==============================] - 6s 4ms/step - loss: 0.0077 - accuracy: 0.9975 - val_loss: 0.1923 - val_accuracy: 0.9724\n",
            "Epoch 6/25\n",
            "1500/1500 [==============================] - 8s 5ms/step - loss: 0.0088 - accuracy: 0.9971 - val_loss: 0.1671 - val_accuracy: 0.9772\n",
            "Epoch 7/25\n",
            "1500/1500 [==============================] - 7s 4ms/step - loss: 0.0073 - accuracy: 0.9977 - val_loss: 0.1687 - val_accuracy: 0.9756\n",
            "Epoch 8/25\n",
            "1500/1500 [==============================] - 7s 5ms/step - loss: 0.0097 - accuracy: 0.9969 - val_loss: 0.1827 - val_accuracy: 0.9730\n",
            "Epoch 9/25\n",
            "1500/1500 [==============================] - 7s 5ms/step - loss: 0.0052 - accuracy: 0.9984 - val_loss: 0.1800 - val_accuracy: 0.9762\n",
            "Epoch 10/25\n",
            "1500/1500 [==============================] - 6s 4ms/step - loss: 0.0072 - accuracy: 0.9978 - val_loss: 0.1709 - val_accuracy: 0.9763\n",
            "Epoch 11/25\n",
            "1500/1500 [==============================] - 7s 5ms/step - loss: 0.0083 - accuracy: 0.9974 - val_loss: 0.1737 - val_accuracy: 0.9762\n",
            "Epoch 12/25\n",
            "1500/1500 [==============================] - 6s 4ms/step - loss: 0.0076 - accuracy: 0.9978 - val_loss: 0.1728 - val_accuracy: 0.9766\n",
            "Epoch 13/25\n",
            "1500/1500 [==============================] - 7s 5ms/step - loss: 0.0054 - accuracy: 0.9982 - val_loss: 0.1962 - val_accuracy: 0.9746\n",
            "Epoch 14/25\n",
            "1500/1500 [==============================] - 6s 4ms/step - loss: 0.0066 - accuracy: 0.9982 - val_loss: 0.1858 - val_accuracy: 0.9758\n",
            "Epoch 15/25\n",
            "1500/1500 [==============================] - 13s 9ms/step - loss: 0.0067 - accuracy: 0.9979 - val_loss: 0.1868 - val_accuracy: 0.9772\n",
            "Epoch 16/25\n",
            "1500/1500 [==============================] - 8s 5ms/step - loss: 0.0083 - accuracy: 0.9975 - val_loss: 0.1898 - val_accuracy: 0.9762\n",
            "Epoch 17/25\n",
            "1500/1500 [==============================] - 6s 4ms/step - loss: 0.0040 - accuracy: 0.9987 - val_loss: 0.2023 - val_accuracy: 0.9748\n",
            "Epoch 18/25\n",
            "1500/1500 [==============================] - 7s 5ms/step - loss: 0.0072 - accuracy: 0.9977 - val_loss: 0.1905 - val_accuracy: 0.9769\n",
            "Epoch 19/25\n",
            "1500/1500 [==============================] - 6s 4ms/step - loss: 0.0056 - accuracy: 0.9982 - val_loss: 0.2128 - val_accuracy: 0.9762\n",
            "Epoch 20/25\n",
            "1500/1500 [==============================] - 7s 5ms/step - loss: 0.0050 - accuracy: 0.9986 - val_loss: 0.1943 - val_accuracy: 0.9760\n",
            "Epoch 21/25\n",
            "1500/1500 [==============================] - 7s 4ms/step - loss: 0.0055 - accuracy: 0.9984 - val_loss: 0.2093 - val_accuracy: 0.9753\n",
            "Epoch 22/25\n",
            "1500/1500 [==============================] - 10s 7ms/step - loss: 0.0057 - accuracy: 0.9984 - val_loss: 0.2162 - val_accuracy: 0.9746\n",
            "Epoch 23/25\n",
            "1500/1500 [==============================] - 8s 5ms/step - loss: 0.0091 - accuracy: 0.9975 - val_loss: 0.2317 - val_accuracy: 0.9758\n",
            "Epoch 24/25\n",
            "1500/1500 [==============================] - 6s 4ms/step - loss: 0.0054 - accuracy: 0.9983 - val_loss: 0.1999 - val_accuracy: 0.9753\n",
            "Epoch 25/25\n",
            "1500/1500 [==============================] - 7s 5ms/step - loss: 0.0039 - accuracy: 0.9985 - val_loss: 0.2179 - val_accuracy: 0.9772\n"
          ]
        }
      ]
    },
    {
      "cell_type": "code",
      "source": [
        "y_prob = model.predict(X_test)"
      ],
      "metadata": {
        "id": "CazuknkLW_LY",
        "outputId": "24bcd0ca-34ed-49a0-c747-67f9ccf62d4f",
        "colab": {
          "base_uri": "https://localhost:8080/"
        }
      },
      "execution_count": null,
      "outputs": [
        {
          "output_type": "stream",
          "name": "stdout",
          "text": [
            "313/313 [==============================] - 1s 2ms/step\n"
          ]
        }
      ]
    },
    {
      "cell_type": "code",
      "source": [
        "y_pred = y_prob.argmax(axis=1)"
      ],
      "metadata": {
        "id": "5nELQpFrXQIi"
      },
      "execution_count": null,
      "outputs": []
    },
    {
      "cell_type": "code",
      "source": [
        "from sklearn.metrics import accuracy_score\n",
        "accuracy_score(y_test,y_pred)"
      ],
      "metadata": {
        "colab": {
          "base_uri": "https://localhost:8080/"
        },
        "id": "jcyA9XVHXY6o",
        "outputId": "c42bb140-bf50-49af-ad45-eac5ca05f509"
      },
      "execution_count": null,
      "outputs": [
        {
          "output_type": "execute_result",
          "data": {
            "text/plain": [
              "0.9747"
            ]
          },
          "metadata": {},
          "execution_count": 15
        }
      ]
    },
    {
      "cell_type": "code",
      "source": [
        "plt.figure(figsize = (10, 5))\n",
        "plt.subplot(1,2, 1)\n",
        "plt.plot(history.history['loss'], label = \"loss\")\n",
        "plt.plot(history.history['val_loss'], label = \"val_loss\")\n",
        "plt.title(\"loss vs val_loss\"), plt.legend()\n",
        "plt.subplot(1, 2, 2)\n",
        "plt.plot(history.history['accuracy'], label = \"accuracy\")\n",
        "plt.plot(history.history['val_accuracy'], label = \"val accuracy\")\n",
        "plt.title(\"accuracy vs val accuracy\"), plt.legend()\n"
      ],
      "metadata": {
        "colab": {
          "base_uri": "https://localhost:8080/",
          "height": 503
        },
        "id": "NT2HxBnDXv_V",
        "outputId": "78ed5eff-3cab-4f8e-b352-51a9e7d305dd"
      },
      "execution_count": null,
      "outputs": [
        {
          "output_type": "execute_result",
          "data": {
            "text/plain": [
              "(Text(0.5, 1.0, 'accuracy vs val accuracy'),\n",
              " <matplotlib.legend.Legend at 0x787a09c562f0>)"
            ]
          },
          "metadata": {},
          "execution_count": 25
        },
        {
          "output_type": "display_data",
          "data": {
            "text/plain": [
              "<Figure size 1000x500 with 2 Axes>"
            ],
            "image/png": "[encoded data removed]"
          },
          "metadata": {}
        }
      ]
    },
    {
      "cell_type": "code",
      "source": [],
      "metadata": {
        "id": "4wCNS80eJMpT"
      },
      "execution_count": null,
      "outputs": []
    },
    {
      "cell_type": "code",
      "source": [
        "model.predict(X_test[1].reshape(1,28,28)).argmax(axis=1)"
      ],
      "metadata": {
        "colab": {
          "base_uri": "https://localhost:8080/"
        },
        "id": "mBKWjIxealMY",
        "outputId": "ec611b7e-333d-416e-e519-1234691ae78c"
      },
      "execution_count": null,
      "outputs": [
        {
          "output_type": "execute_result",
          "data": {
            "text/plain": [
              "array([2])"
            ]
          },
          "metadata": {},
          "execution_count": 68
        }
      ]
    },
    {
      "cell_type": "code",
      "source": [
        "plt.figure(figsize = (7, 7))\n",
        "for i in range(1, 10):\n",
        "\n",
        "  idx = np.random.randint(1, len(X_test))\n",
        "  preds = model.predict(X_test[idx].reshape(1,28,28), verbose = 0).argmax(axis=1)[0]\n",
        "  plt.subplot(3, 3, i), plt.imshow(X_test[idx],cmap = \"gray\"), plt.title(preds), plt.axis(\"off\")"
      ],
      "metadata": {
        "id": "aSdnr7zQJs47",
        "outputId": "fe9fe7c0-9aab-4671-ee16-8e9b8cdb5867",
        "colab": {
          "base_uri": "https://localhost:8080/",
          "height": 598
        }
      },
      "execution_count": null,
      "outputs": [
        {
          "output_type": "display_data",
          "data": {
            "text/plain": [
              "<Figure size 700x700 with 9 Axes>"
            ],
            "image/png": "[encoded data removed]"
          },
          "metadata": {}
        }
      ]
    },
    {
      "cell_type": "markdown",
      "source": [
        "\n",
        "Here we test  9 random test samples and note that the model perdfectly  classifies alll the samples."
      ],
      "metadata": {
        "id": "7AobmfZWLlH0"
      }
    },
    {
      "cell_type": "code",
      "source": [],
      "metadata": {
        "id": "WNCdt-maKAmY"
      },
      "execution_count": null,
      "outputs": []
    }
  ]
}